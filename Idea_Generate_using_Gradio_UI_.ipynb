{
  "nbformat": 4,
  "nbformat_minor": 0,
  "metadata": {
    "colab": {
      "provenance": []
    },
    "kernelspec": {
      "name": "python3",
      "display_name": "Python 3"
    },
    "language_info": {
      "name": "python"
    }
  },
  "cells": [
    {
      "cell_type": "code",
      "execution_count": null,
      "metadata": {
        "id": "CPDBEVKUSoAf"
      },
      "outputs": [],
      "source": [
        "#=============================\n",
        "#Cell 1:Install\n",
        "#=============================\n",
        "!pip install -q transformers gradio torch accelerate"
      ]
    },
    {
      "cell_type": "code",
      "source": [
        "#=============================\n",
        "#Cell 2:Import\n",
        "#=============================\n",
        "from transformers import pipeline\n",
        "import gradio as gr\n",
        "\n",
        "generator=pipeline(\n",
        "    \"text2text-generation\",\n",
        "    model=\"MBZUAI/LaMini-Flan-T5-783M\",\n",
        "    device_map=\"auto\"\n",
        ")"
      ],
      "metadata": {
        "colab": {
          "base_uri": "https://localhost:8080/"
        },
        "id": "WreX-5vHUvLH",
        "outputId": "6f278ea8-e6aa-4568-ba9e-21020d12705f"
      },
      "execution_count": null,
      "outputs": [
        {
          "output_type": "stream",
          "name": "stderr",
          "text": [
            "Device set to use cpu\n"
          ]
        }
      ]
    },
    {
      "cell_type": "code",
      "source": [
        "#=============================\n",
        "#Cell 3:Function\n",
        "#=============================\n",
        "def generatee_idea(domain):\n",
        "  if not domain or not domain.strip():\n",
        "      return \"Please provide a domain (e.g., Agritech, Fintech, EdTech).\"\n",
        "\n",
        "  prompt=f\"\"\"\n",
        "Generate a stratup pitch for the domain: {domain}.\n",
        "Include the following sections:\n",
        "\n",
        "1)Business Idea (2-3 sentences)\n",
        "2)Problem Statement (explain the challenge clearly)\n",
        "3)Solution Proposal (explain how the solution solves it)\n",
        "\"\"\"\n",
        "\n",
        "  result=generator(\n",
        "      prompt,\n",
        "      max_new_tokens=400,\n",
        "      temperature=0.8,\n",
        "      do_sample=True,\n",
        "      )\n",
        "\n",
        "  return result[0][\"generated_text\"]"
      ],
      "metadata": {
        "id": "0khRnvFaVf7V"
      },
      "execution_count": null,
      "outputs": []
    },
    {
      "cell_type": "code",
      "source": [
        "demo=gr.Interface(\n",
        "    fn=generatee_idea,\n",
        "    inputs=gr.Textbox(label=\"Domain of Interest\",placeholder=\"e.g., Agritech, Fintech, EdTech\"),\n",
        "    outputs=\"text\",\n",
        "    title=\"🚀Starup Idea+Pitch Generator\",\n",
        "    description=\"Enter a domain (Agritech, Fintech, EdTech, etc.) and get a startup pitch with Problem & Solution.\"\n",
        ")\n",
        "\n",
        "demo.launch(share=True)"
      ],
      "metadata": {
        "colab": {
          "base_uri": "https://localhost:8080/",
          "height": 611
        },
        "id": "upkqxdKBcyQf",
        "outputId": "ab8eddb8-24fa-481e-8aa1-564f5f961485"
      },
      "execution_count": null,
      "outputs": [
        {
          "output_type": "stream",
          "name": "stdout",
          "text": [
            "Colab notebook detected. To show errors in colab notebook, set debug=True in launch()\n",
            "* Running on public URL: https://7a5cd4e376816e5ef2.gradio.live\n",
            "\n",
            "This share link expires in 1 week. For free permanent hosting and GPU upgrades, run `gradio deploy` from the terminal in the working directory to deploy to Hugging Face Spaces (https://huggingface.co/spaces)\n"
          ]
        },
        {
          "output_type": "display_data",
          "data": {
            "text/plain": [
              "<IPython.core.display.HTML object>"
            ],
            "text/html": [
              "<div><iframe src=\"https://7a5cd4e376816e5ef2.gradio.live\" width=\"100%\" height=\"500\" allow=\"autoplay; camera; microphone; clipboard-read; clipboard-write;\" frameborder=\"0\" allowfullscreen></iframe></div>"
            ]
          },
          "metadata": {}
        },
        {
          "output_type": "execute_result",
          "data": {
            "text/plain": []
          },
          "metadata": {},
          "execution_count": 7
        }
      ]
    }
  ]
}